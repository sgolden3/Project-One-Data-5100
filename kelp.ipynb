{
 "cells": [
  {
   "cell_type": "markdown",
   "id": "78b8d3a8-dc37-4b42-989d-49fda9976456",
   "metadata": {},
   "source": [
    "# Libraries"
   ]
  },
  {
   "cell_type": "code",
   "execution_count": 2,
   "id": "72ab3e9b-8e33-4a8d-a7b3-a30802d8b6fc",
   "metadata": {},
   "outputs": [],
   "source": [
    "import numpy as np\n",
    "import pandas as pd\n",
    "import seaborn as sns\n",
    "import datetime as dt\n",
    "import matplotlib.pyplot as plt"
   ]
  },
  {
   "cell_type": "markdown",
   "id": "e4ec635b-f140-4fdd-a562-fd898adbb0fe",
   "metadata": {},
   "source": [
    "## Load data"
   ]
  },
  {
   "cell_type": "code",
   "execution_count": 48,
   "id": "f3ceb710-19c5-4d27-9479-521f32380116",
   "metadata": {},
   "outputs": [],
   "source": [
    "df= pd.read_csv(\"C:/Users/ahria/Downloads/Export(2).csv\")\n",
    "df2 = pd.read_csv(\"C:/Users/ahria/Downloads/Export(1).csv\")\n",
    "df3 = pd.read_csv(\"C:/Users/ahria/Downloads/Export.csv\")"
   ]
  },
  {
   "cell_type": "code",
   "execution_count": 49,
   "id": "a2a96f79-ce8b-4495-94eb-a2c65892d1fe",
   "metadata": {},
   "outputs": [
    {
     "data": {
      "text/html": [
       "<div>\n",
       "<style scoped>\n",
       "    .dataframe tbody tr th:only-of-type {\n",
       "        vertical-align: middle;\n",
       "    }\n",
       "\n",
       "    .dataframe tbody tr th {\n",
       "        vertical-align: top;\n",
       "    }\n",
       "\n",
       "    .dataframe thead th {\n",
       "        text-align: right;\n",
       "    }\n",
       "</style>\n",
       "<table border=\"1\" class=\"dataframe\">\n",
       "  <thead>\n",
       "    <tr style=\"text-align: right;\">\n",
       "      <th></th>\n",
       "      <th>geometry</th>\n",
       "      <th>Bed Name</th>\n",
       "      <th>Survey Date</th>\n",
       "      <th>Acres</th>\n",
       "      <th>Miles</th>\n",
       "      <th>County</th>\n",
       "      <th>Location</th>\n",
       "      <th>Start time (PDT)</th>\n",
       "      <th>End time (PDT)</th>\n",
       "      <th>Weather</th>\n",
       "      <th>...</th>\n",
       "      <th>Water Temp (C ) Shore Edge 2</th>\n",
       "      <th>Water Temp (C ) Water Edge 2</th>\n",
       "      <th>MLLW Tidal_Ht (m).1</th>\n",
       "      <th>Survey Conditions</th>\n",
       "      <th>Current (knots)</th>\n",
       "      <th>Current Station</th>\n",
       "      <th>Averaged Temp (C) Shore Edge</th>\n",
       "      <th>Averaged Temp (C) Water Edge</th>\n",
       "      <th>Averaged Depth (m) Shore Edge</th>\n",
       "      <th>Averaged Depth (m) Water Edge</th>\n",
       "    </tr>\n",
       "  </thead>\n",
       "  <tbody>\n",
       "    <tr>\n",
       "      <th>0</th>\n",
       "      <td>Geocortex.Gis.Geometries.Polygon</td>\n",
       "      <td>Clallam Bay</td>\n",
       "      <td>Sept 2, 2023</td>\n",
       "      <td>9.584521</td>\n",
       "      <td>0.759893</td>\n",
       "      <td>Clallam</td>\n",
       "      <td>Clallam Bay</td>\n",
       "      <td>10:13 AM</td>\n",
       "      <td>10:47 AM</td>\n",
       "      <td>clear</td>\n",
       "      <td>...</td>\n",
       "      <td>NaN</td>\n",
       "      <td>NaN</td>\n",
       "      <td>NaN</td>\n",
       "      <td>We accidentally forgot to bring out the tools ...</td>\n",
       "      <td>1.0</td>\n",
       "      <td>Alan's Estimate</td>\n",
       "      <td>NaN</td>\n",
       "      <td>NaN</td>\n",
       "      <td>NaN</td>\n",
       "      <td>NaN</td>\n",
       "    </tr>\n",
       "    <tr>\n",
       "      <th>1</th>\n",
       "      <td>Geocortex.Gis.Geometries.Polygon</td>\n",
       "      <td>Freshwater Bay 1</td>\n",
       "      <td>Aug 14, 2023</td>\n",
       "      <td>121.974427</td>\n",
       "      <td>4.110380</td>\n",
       "      <td>Clallam</td>\n",
       "      <td>Freshwater Bay</td>\n",
       "      <td>08:07 AM</td>\n",
       "      <td>10:20 AM</td>\n",
       "      <td>clear</td>\n",
       "      <td>...</td>\n",
       "      <td>12.8</td>\n",
       "      <td>11.1</td>\n",
       "      <td>NaN</td>\n",
       "      <td>8/14/23: It was very windy! Especially toward ...</td>\n",
       "      <td>1.0</td>\n",
       "      <td>Alan's Estimate</td>\n",
       "      <td>12.25</td>\n",
       "      <td>11.4</td>\n",
       "      <td>NaN</td>\n",
       "      <td>NaN</td>\n",
       "    </tr>\n",
       "    <tr>\n",
       "      <th>2</th>\n",
       "      <td>Geocortex.Gis.Geometries.Polygon</td>\n",
       "      <td>Freshwater Bay 2</td>\n",
       "      <td>Aug 31, 2023</td>\n",
       "      <td>0.586538</td>\n",
       "      <td>0.355155</td>\n",
       "      <td>Clallam</td>\n",
       "      <td>Observatory Point</td>\n",
       "      <td>09:07 AM</td>\n",
       "      <td>09:40 AM</td>\n",
       "      <td>fog_mist</td>\n",
       "      <td>...</td>\n",
       "      <td>12.2</td>\n",
       "      <td>11.1</td>\n",
       "      <td>NaN</td>\n",
       "      <td>@ N48°08.064, W123°38.224, a separate bed of N...</td>\n",
       "      <td>0.5</td>\n",
       "      <td>Alan's Estimate</td>\n",
       "      <td>12.75</td>\n",
       "      <td>11.1</td>\n",
       "      <td>NaN</td>\n",
       "      <td>NaN</td>\n",
       "    </tr>\n",
       "    <tr>\n",
       "      <th>3</th>\n",
       "      <td>Geocortex.Gis.Geometries.Polygon</td>\n",
       "      <td>Freshwater Bay 3</td>\n",
       "      <td>Aug 31, 2023</td>\n",
       "      <td>0.315308</td>\n",
       "      <td>0.158168</td>\n",
       "      <td>Clallam</td>\n",
       "      <td>Observatory Point</td>\n",
       "      <td>09:40 AM</td>\n",
       "      <td>09:52 AM</td>\n",
       "      <td>fog_mist</td>\n",
       "      <td>...</td>\n",
       "      <td>11.1</td>\n",
       "      <td>NaN</td>\n",
       "      <td>NaN</td>\n",
       "      <td>@ N48°08.064, W123°38.224, a separate bed of N...</td>\n",
       "      <td>0.5</td>\n",
       "      <td>Alan's Estimate</td>\n",
       "      <td>11.10</td>\n",
       "      <td>11.1</td>\n",
       "      <td>NaN</td>\n",
       "      <td>NaN</td>\n",
       "    </tr>\n",
       "    <tr>\n",
       "      <th>4</th>\n",
       "      <td>Geocortex.Gis.Geometries.Polygon</td>\n",
       "      <td>Ebey's Landing</td>\n",
       "      <td>Aug 14, 2023</td>\n",
       "      <td>31.122627</td>\n",
       "      <td>1.992345</td>\n",
       "      <td>Island</td>\n",
       "      <td>Ebey's Landing</td>\n",
       "      <td>08:10 AM</td>\n",
       "      <td>10:53 AM</td>\n",
       "      <td>clear</td>\n",
       "      <td>...</td>\n",
       "      <td>11.7</td>\n",
       "      <td>12.2</td>\n",
       "      <td>-2.34</td>\n",
       "      <td>clear, sunny, NW wind 2 kt rising to 7 kt; cur...</td>\n",
       "      <td>NaN</td>\n",
       "      <td>on-site</td>\n",
       "      <td>11.75</td>\n",
       "      <td>12.2</td>\n",
       "      <td>-1.04</td>\n",
       "      <td>5.585</td>\n",
       "    </tr>\n",
       "  </tbody>\n",
       "</table>\n",
       "<p>5 rows × 32 columns</p>\n",
       "</div>"
      ],
      "text/plain": [
       "                           geometry          Bed Name   Survey Date  \\\n",
       "0  Geocortex.Gis.Geometries.Polygon       Clallam Bay  Sept 2, 2023   \n",
       "1  Geocortex.Gis.Geometries.Polygon  Freshwater Bay 1  Aug 14, 2023   \n",
       "2  Geocortex.Gis.Geometries.Polygon  Freshwater Bay 2  Aug 31, 2023   \n",
       "3  Geocortex.Gis.Geometries.Polygon  Freshwater Bay 3  Aug 31, 2023   \n",
       "4  Geocortex.Gis.Geometries.Polygon    Ebey's Landing  Aug 14, 2023   \n",
       "\n",
       "        Acres     Miles   County           Location Start time (PDT)  \\\n",
       "0    9.584521  0.759893  Clallam        Clallam Bay         10:13 AM   \n",
       "1  121.974427  4.110380  Clallam     Freshwater Bay         08:07 AM   \n",
       "2    0.586538  0.355155  Clallam  Observatory Point         09:07 AM   \n",
       "3    0.315308  0.158168  Clallam  Observatory Point         09:40 AM   \n",
       "4   31.122627  1.992345   Island     Ebey's Landing         08:10 AM   \n",
       "\n",
       "  End time (PDT)   Weather  ... Water Temp (C ) Shore Edge 2  \\\n",
       "0       10:47 AM     clear  ...                          NaN   \n",
       "1       10:20 AM     clear  ...                         12.8   \n",
       "2       09:40 AM  fog_mist  ...                         12.2   \n",
       "3       09:52 AM  fog_mist  ...                         11.1   \n",
       "4       10:53 AM     clear  ...                         11.7   \n",
       "\n",
       "  Water Temp (C ) Water Edge 2 MLLW Tidal_Ht (m).1  \\\n",
       "0                          NaN                 NaN   \n",
       "1                         11.1                 NaN   \n",
       "2                         11.1                 NaN   \n",
       "3                          NaN                 NaN   \n",
       "4                         12.2               -2.34   \n",
       "\n",
       "                                   Survey Conditions Current (knots)  \\\n",
       "0  We accidentally forgot to bring out the tools ...             1.0   \n",
       "1  8/14/23: It was very windy! Especially toward ...             1.0   \n",
       "2  @ N48°08.064, W123°38.224, a separate bed of N...             0.5   \n",
       "3  @ N48°08.064, W123°38.224, a separate bed of N...             0.5   \n",
       "4  clear, sunny, NW wind 2 kt rising to 7 kt; cur...             NaN   \n",
       "\n",
       "   Current Station  Averaged Temp (C) Shore Edge  \\\n",
       "0  Alan's Estimate                           NaN   \n",
       "1  Alan's Estimate                         12.25   \n",
       "2  Alan's Estimate                         12.75   \n",
       "3  Alan's Estimate                         11.10   \n",
       "4          on-site                         11.75   \n",
       "\n",
       "   Averaged Temp (C) Water Edge  Averaged Depth (m) Shore Edge  \\\n",
       "0                           NaN                            NaN   \n",
       "1                          11.4                            NaN   \n",
       "2                          11.1                            NaN   \n",
       "3                          11.1                            NaN   \n",
       "4                          12.2                          -1.04   \n",
       "\n",
       "   Averaged Depth (m) Water Edge  \n",
       "0                            NaN  \n",
       "1                            NaN  \n",
       "2                            NaN  \n",
       "3                            NaN  \n",
       "4                          5.585  \n",
       "\n",
       "[5 rows x 32 columns]"
      ]
     },
     "execution_count": 49,
     "metadata": {},
     "output_type": "execute_result"
    }
   ],
   "source": [
    "df.head()"
   ]
  },
  {
   "cell_type": "code",
   "execution_count": 50,
   "id": "8a0600fc-a9c3-4408-8dfd-f83b9e83f94c",
   "metadata": {},
   "outputs": [
    {
     "data": {
      "text/plain": [
       "Index(['geometry', 'Bed Name', 'Survey Date', 'Acres', 'Miles', 'County',\n",
       "       'Location', 'Start time (PDT)', 'End time (PDT)', 'Weather',\n",
       "       'Tide Station', 'Observations', 'Additional Observations',\n",
       "       'Photo towards beach', 'Notes', 'MLLW Tidal_Ht (m)',\n",
       "       'CORRECTED DEPTH: Edge closest to shore (m MLLW) 1',\n",
       "       'CORRECTED DEPTH: Edge closest to shore (m MLLW) 1.1',\n",
       "       'CORRECTED DEPTH: Edge farthest from shore (m MLLW) 1',\n",
       "       'CORRECTED DEPTH: Edge closest to shore (m MLLW) 2',\n",
       "       'Water Temp (C ) Shore Edge 1', 'Water Temp (C ) Water Edge 1',\n",
       "       'Water Temp (C ) Shore Edge 2', 'Water Temp (C ) Water Edge 2',\n",
       "       'MLLW Tidal_Ht (m).1', 'Survey Conditions', 'Current (knots)',\n",
       "       'Current Station', 'Averaged Temp (C) Shore Edge',\n",
       "       'Averaged Temp (C) Water Edge', 'Averaged Depth (m) Shore Edge',\n",
       "       'Averaged Depth (m) Water Edge'],\n",
       "      dtype='object')"
      ]
     },
     "execution_count": 50,
     "metadata": {},
     "output_type": "execute_result"
    }
   ],
   "source": [
    "df.columns"
   ]
  },
  {
   "cell_type": "code",
   "execution_count": 51,
   "id": "d4244e52-40a7-4508-9aae-1539a1625192",
   "metadata": {},
   "outputs": [
    {
     "data": {
      "image/png": "[encoded data removed]",
      "text/plain": [
       "<Figure size 640x480 with 1 Axes>"
      ]
     },
     "metadata": {},
     "output_type": "display_data"
    }
   ],
   "source": [
    "plt.scatter(df['Water Temp (C ) Water Edge 1'], df['Acres'])\n",
    "\n",
    "# Add labels and title\n",
    "plt.xlabel(\"Water temp\")\n",
    "plt.ylabel(\"Acres\")\n",
    "plt.title(\"Simple Scatter Plot\")\n",
    "\n",
    "# Display the plot\n",
    "plt.show()"
   ]
  },
  {
   "cell_type": "code",
   "execution_count": 52,
   "id": "46edc173-2fea-4745-9894-106d5195102e",
   "metadata": {},
   "outputs": [
    {
     "data": {
      "image/png": "[encoded data removed]",
      "text/plain": [
       "<Figure size 640x480 with 2 Axes>"
      ]
     },
     "metadata": {},
     "output_type": "display_data"
    }
   ],
   "source": [
    "predictor_variables = ['Water Temp (C ) Water Edge 1']\n",
    "\n",
    "numerical_predictors = df[predictor_variables].select_dtypes(include='number').columns.to_list()\n",
    "\n",
    "corr_matrix = df[numerical_predictors + [\"Acres\"]].corr()\n",
    "\n",
    "\n",
    "sns.heatmap(\n",
    "    corr_matrix, vmax=1, vmin=-1, square=True, annot=True, cmap=\"viridis\"\n",
    ")\n",
    "\n",
    "plt.tick_params(labelsize=12)\n",
    "\n",
    "plt.show()"
   ]
  },
  {
   "cell_type": "code",
   "execution_count": 54,
   "id": "39f41ade-0ee4-4a18-955e-913eb9e5f1ed",
   "metadata": {},
   "outputs": [
    {
     "data": {
      "text/plain": [
       "Index(['geometry', 'Bed Name', 'Location', 'Survey Date', 'Acres', 'Miles',\n",
       "       'County', 'Start time (PDT)', 'End time (PDT)',\n",
       "       'CORRECTED DEPTH: Edge closest to shore (m MLLW)',\n",
       "       'CORRECTED DEPTH: Edge farthest from shore (m MLLW)',\n",
       "       'Total Bulbs/Meter-Squared', 'Water Temp (C )', 'Weather',\n",
       "       'Tide Ht Start (ft)', 'Tide Station', 'Observations',\n",
       "       'Additional Observations', 'Photo towards beach', 'Photo towards water',\n",
       "       'Photo beach on left', 'Photo beach on right', 'SurveyID',\n",
       "       'Tidal Ht (m)'],\n",
       "      dtype='object')"
      ]
     },
     "execution_count": 54,
     "metadata": {},
     "output_type": "execute_result"
    }
   ],
   "source": [
    "df2.columns"
   ]
  },
  {
   "cell_type": "code",
   "execution_count": 55,
   "id": "f7e651a3-3214-4dc6-b691-a53f6ed8ab69",
   "metadata": {},
   "outputs": [
    {
     "data": {
      "image/png": "[encoded data removed]",
      "text/plain": [
       "<Figure size 640x480 with 1 Axes>"
      ]
     },
     "metadata": {},
     "output_type": "display_data"
    }
   ],
   "source": [
    "plt.scatter(df2['Water Temp (C )'], df2['Acres'])\n",
    "\n",
    "# Add labels and title\n",
    "plt.xlabel(\"Water temp\")\n",
    "plt.ylabel(\"Acres\")\n",
    "plt.title(\"Simple Scatter Plot\")\n",
    "\n",
    "# Display the plot\n",
    "plt.show()"
   ]
  },
  {
   "cell_type": "code",
   "execution_count": 62,
   "id": "d9175242-e8c6-4ce1-a7d6-b991902bd861",
   "metadata": {},
   "outputs": [
    {
     "data": {
      "image/png": "[encoded data removed]",
      "text/plain": [
       "<Figure size 640x480 with 2 Axes>"
      ]
     },
     "metadata": {},
     "output_type": "display_data"
    }
   ],
   "source": [
    "predictor_variables = ['Water Temp (C )']\n",
    "\n",
    "numerical_predictors = df2[predictor_variables].select_dtypes(include='number').columns.to_list()\n",
    "\n",
    "corr_matrix = df2[numerical_predictors + [\"Acres\"]].corr()\n",
    "\n",
    "\n",
    "sns.heatmap(\n",
    "    corr_matrix, vmax=1, vmin=-1, square=True, annot=True, cmap=\"viridis\"\n",
    ")\n",
    "\n",
    "plt.tick_params(labelsize=12)\n",
    "\n",
    "plt.show()"
   ]
  },
  {
   "cell_type": "code",
   "execution_count": 56,
   "id": "41b9c0a2-2a18-4da6-b0f6-43fbcf11a7b3",
   "metadata": {},
   "outputs": [
    {
     "data": {
      "text/plain": [
       "Index(['geometry', 'Bed Name', 'Location', 'Survey Date', 'Survey #', 'Acres',\n",
       "       'Miles', 'County', 'Start time (PDT)', 'End time (PDT)',\n",
       "       'CORRECTED DEPTH: Edge closest to shore (m MLLW)',\n",
       "       'CORRECTED DEPTH: Edge farthest from shore (m MLLW)',\n",
       "       'Total Bulbs/Meter-Squared', 'Water Temp (C)', 'Weather',\n",
       "       'Tide Station', 'Tide Ht Start (ft)', 'Observations',\n",
       "       'Additional Observations', 'Photo towards beach', 'Photo towards water',\n",
       "       'Photo beach on left', 'Photo beach on right', 'SurveyDate_Converted',\n",
       "       'SurveyID'],\n",
       "      dtype='object')"
      ]
     },
     "execution_count": 56,
     "metadata": {},
     "output_type": "execute_result"
    }
   ],
   "source": [
    "df3.columns"
   ]
  },
  {
   "cell_type": "code",
   "execution_count": 60,
   "id": "abbf45be-0186-4c9f-9709-7cbdef8cddeb",
   "metadata": {},
   "outputs": [
    {
     "data": {
      "image/png": "[encoded data removed]",
      "text/plain": [
       "<Figure size 640x480 with 1 Axes>"
      ]
     },
     "metadata": {},
     "output_type": "display_data"
    }
   ],
   "source": [
    "plt.scatter(df3['Water Temp (C)'], df3['Acres'])\n",
    "\n",
    "# Add labels and title\n",
    "plt.xlabel(\"Water temp\")\n",
    "plt.ylabel(\"Acres\")\n",
    "plt.title(\"Simple Scatter Plot\")\n",
    "\n",
    "# Display the plot\n",
    "plt.show()"
   ]
  },
  {
   "cell_type": "code",
   "execution_count": 61,
   "id": "78b95d98-e10a-4a02-ab51-a300ce821399",
   "metadata": {},
   "outputs": [
    {
     "data": {
      "image/png": "[encoded data removed]",
      "text/plain": [
       "<Figure size 640x480 with 2 Axes>"
      ]
     },
     "metadata": {},
     "output_type": "display_data"
    }
   ],
   "source": [
    "predictor_variables = ['Water Temp (C)']\n",
    "\n",
    "numerical_predictors = df3[predictor_variables].select_dtypes(include='number').columns.to_list()\n",
    "\n",
    "corr_matrix = df3[numerical_predictors + [\"Acres\"]].corr()\n",
    "\n",
    "\n",
    "sns.heatmap(\n",
    "    corr_matrix, vmax=1, vmin=-1, square=True, annot=True, cmap=\"viridis\"\n",
    ")\n",
    "\n",
    "plt.tick_params(labelsize=12)\n",
    "\n",
    "plt.show()"
   ]
  },
  {
   "cell_type": "code",
   "execution_count": 68,
   "id": "abc1abe4-9e8f-4361-8347-f4a4fbc2073c",
   "metadata": {},
   "outputs": [
    {
     "name": "stdout",
     "output_type": "stream",
     "text": [
      "<class 'pandas.core.frame.DataFrame'>\n",
      "RangeIndex: 41 entries, 0 to 40\n",
      "Data columns (total 32 columns):\n",
      " #   Column                                                Non-Null Count  Dtype  \n",
      "---  ------                                                --------------  -----  \n",
      " 0   geometry                                              41 non-null     object \n",
      " 1   Bed Name                                              41 non-null     object \n",
      " 2   Survey Date                                           41 non-null     object \n",
      " 3   Acres                                                 41 non-null     float64\n",
      " 4   Miles                                                 41 non-null     float64\n",
      " 5   County                                                41 non-null     object \n",
      " 6   Location                                              41 non-null     object \n",
      " 7   Start time (PDT)                                      41 non-null     object \n",
      " 8   End time (PDT)                                        40 non-null     object \n",
      " 9   Weather                                               41 non-null     object \n",
      " 10  Tide Station                                          41 non-null     object \n",
      " 11  Observations                                          41 non-null     object \n",
      " 12  Additional Observations                               19 non-null     object \n",
      " 13  Photo towards beach                                   41 non-null     object \n",
      " 14  Notes                                                 10 non-null     object \n",
      " 15  MLLW Tidal_Ht (m)                                     40 non-null     float64\n",
      " 16  CORRECTED DEPTH: Edge closest to shore (m MLLW) 1     33 non-null     float64\n",
      " 17  CORRECTED DEPTH: Edge closest to shore (m MLLW) 1.1   30 non-null     float64\n",
      " 18  CORRECTED DEPTH: Edge farthest from shore (m MLLW) 1  37 non-null     float64\n",
      " 19  CORRECTED DEPTH: Edge closest to shore (m MLLW) 2     30 non-null     float64\n",
      " 20  Water Temp (C ) Shore Edge 1                          35 non-null     float64\n",
      " 21  Water Temp (C ) Water Edge 1                          38 non-null     float64\n",
      " 22  Water Temp (C ) Shore Edge 2                          32 non-null     float64\n",
      " 23  Water Temp (C ) Water Edge 2                          31 non-null     float64\n",
      " 24  MLLW Tidal_Ht (m).1                                   36 non-null     float64\n",
      " 25  Survey Conditions                                     33 non-null     object \n",
      " 26  Current (knots)                                       38 non-null     float64\n",
      " 27  Current Station                                       38 non-null     object \n",
      " 28  Averaged Temp (C) Shore Edge                          35 non-null     float64\n",
      " 29  Averaged Temp (C) Water Edge                          38 non-null     float64\n",
      " 30  Averaged Depth (m) Shore Edge                         33 non-null     float64\n",
      " 31  Averaged Depth (m) Water Edge                         37 non-null     float64\n",
      "dtypes: float64(17), object(15)\n",
      "memory usage: 10.4+ KB\n"
     ]
    }
   ],
   "source": [
    "df.info()"
   ]
  },
  {
   "cell_type": "markdown",
   "id": "63bdd390-97a5-410e-a1d8-f741ba2d81da",
   "metadata": {},
   "source": [
    "## Explore/clean"
   ]
  },
  {
   "cell_type": "markdown",
   "id": "bfd05dfa-7093-4445-a5c8-9ff8c0428573",
   "metadata": {},
   "source": [
    "### convert to datetime"
   ]
  },
  {
   "cell_type": "code",
   "execution_count": 14,
   "id": "bae6c60d-8fa1-4fc2-8e59-00ff7b49b78c",
   "metadata": {},
   "outputs": [],
   "source": [
    "df['Survey Date'] = pd.to_datetime(df['Survey Date'], format ='mixed')\n",
    "df2['Survey Date'] = pd.to_datetime(df2['Survey Date'], format='mixed')\n",
    "df3['Survey Date'] = pd.to_datetime(df3['Survey Date'], format='mixed')"
   ]
  },
  {
   "cell_type": "code",
   "execution_count": 15,
   "id": "b2fdd5bd-6f2c-4b13-ac64-9b1eac54d46d",
   "metadata": {},
   "outputs": [],
   "source": [
    "df['year'] = df['Survey Date'].dt.year\n",
    "df2['year'] = df2['Survey Date'].dt.year\n",
    "df3['year'] = df3['Survey Date'].dt.year"
   ]
  },
  {
   "cell_type": "code",
   "execution_count": 16,
   "id": "14d13ecd-9cb7-4943-a59e-06ed7f4d1f5d",
   "metadata": {},
   "outputs": [],
   "source": [
    "df['month'] = df['Survey Date'].dt.month\n",
    "df2['month'] = df2['Survey Date'].dt.month\n",
    "df3['month'] = df3['Survey Date'].dt.month"
   ]
  },
  {
   "cell_type": "markdown",
   "id": "a28be3c7-48db-4421-b6ad-ca07da230b29",
   "metadata": {},
   "source": [
    "### rename columns"
   ]
  },
  {
   "cell_type": "code",
   "execution_count": 17,
   "id": "c14bfe44-66db-462a-a3f4-31b1123121dc",
   "metadata": {},
   "outputs": [],
   "source": [
    "df3 = df3.rename(\n",
    "    columns={\n",
    "        \"Survey Date\": \"date\",\n",
    "        'Bed Name': 'bed_name',\n",
    "        \"Acres\": \"acres\",\n",
    "        \"Miles\": \"miles\",\n",
    "        \"County\": \"county\",\n",
    "        \"Observations\": \"observations\",\n",
    "        'Water Temp (C)': \"water_temp\",\n",
    "    }\n",
    ")"
   ]
  },
  {
   "cell_type": "code",
   "execution_count": 18,
   "id": "78f52787-c2a6-4b72-8d65-4ce56cbca5e4",
   "metadata": {},
   "outputs": [],
   "source": [
    "df2 = df2.rename(\n",
    "    columns={\n",
    "        \"Survey Date\": \"date\",\n",
    "        'Bed Name': 'bed_name',\n",
    "        \"Acres\": \"acres\",\n",
    "        \"Miles\": \"miles\",\n",
    "        \"County\": \"county\",\n",
    "        \"Observations\": \"observations\",\n",
    "        'Water Temp (C )': \"water_temp\",\n",
    "    }\n",
    ")"
   ]
  },
  {
   "cell_type": "code",
   "execution_count": 19,
   "id": "936961c5-8d16-4922-a154-0dce967f38a3",
   "metadata": {},
   "outputs": [],
   "source": [
    "df = df.rename(\n",
    "    columns={\n",
    "        \"Survey Date\": \"date\",\n",
    "        'Bed Name': 'bed_name',\n",
    "        \"Acres\": \"acres\",\n",
    "        \"Miles\": \"miles\",\n",
    "        \"County\": \"county\",\n",
    "        \"Observations\": \"observations\",\n",
    "        \"Water Temp (C ) Shore Edge 1\": \"water_temp\",\n",
    "    }\n",
    ")"
   ]
  },
  {
   "cell_type": "code",
   "execution_count": 20,
   "id": "b15d0ebf-0de9-49fe-9a0d-13a18338021a",
   "metadata": {},
   "outputs": [
    {
     "data": {
      "text/plain": [
       "Index(['geometry', 'bed_name', 'Location', 'date', 'Survey #', 'acres',\n",
       "       'miles', 'county', 'Start time (PDT)', 'End time (PDT)',\n",
       "       'CORRECTED DEPTH: Edge closest to shore (m MLLW)',\n",
       "       'CORRECTED DEPTH: Edge farthest from shore (m MLLW)',\n",
       "       'Total Bulbs/Meter-Squared', 'water_temp', 'Weather', 'Tide Station',\n",
       "       'Tide Ht Start (ft)', 'observations', 'Additional Observations',\n",
       "       'Photo towards beach', 'Photo towards water', 'Photo beach on left',\n",
       "       'Photo beach on right', 'SurveyDate_Converted', 'SurveyID', 'year',\n",
       "       'month'],\n",
       "      dtype='object')"
      ]
     },
     "execution_count": 20,
     "metadata": {},
     "output_type": "execute_result"
    }
   ],
   "source": [
    "df3.columns"
   ]
  },
  {
   "cell_type": "markdown",
   "id": "c16dd2bd-784f-4a75-967a-926e06eaccd4",
   "metadata": {},
   "source": [
    "### reduce dfs"
   ]
  },
  {
   "cell_type": "code",
   "execution_count": 21,
   "id": "0ff5b81f-ca9c-464c-bf0e-370ab948a89f",
   "metadata": {},
   "outputs": [],
   "source": [
    "df_2015= df3[['geometry','bed_name', 'date', 'acres', 'county', 'Location',\n",
    "        'observations', 'water_temp','year', 'month']]"
   ]
  },
  {
   "cell_type": "code",
   "execution_count": 22,
   "id": "340ec5fc-d0d2-4c3e-a4e4-ebb959867899",
   "metadata": {},
   "outputs": [],
   "source": [
    "df_2017= df2[['geometry','bed_name', 'date', 'acres', 'county', 'Location',\n",
    "        'observations', 'water_temp','year', 'month']]"
   ]
  },
  {
   "cell_type": "code",
   "execution_count": 23,
   "id": "c070f2a8-4060-4796-b60d-69f0f868562e",
   "metadata": {},
   "outputs": [],
   "source": [
    "df_2023 = df[['geometry','bed_name', 'date', 'acres', 'county', 'Location',\n",
    "        'observations', 'Notes', 'water_temp','year', 'month']]"
   ]
  },
  {
   "cell_type": "markdown",
   "id": "57be8cae-9f49-4cc8-bbae-5fb95fe53509",
   "metadata": {},
   "source": [
    "### find which ones they all share"
   ]
  },
  {
   "cell_type": "code",
   "execution_count": 24,
   "id": "fc1ad3c7-7cf8-4b79-ad13-52453b6d9da9",
   "metadata": {},
   "outputs": [],
   "source": [
    "sim= set(df_2017['bed_name']).intersection(set(df_2015['bed_name']))"
   ]
  },
  {
   "cell_type": "code",
   "execution_count": 25,
   "id": "62605434-e785-475a-8311-9459c77d0ee4",
   "metadata": {},
   "outputs": [
    {
     "data": {
      "text/plain": [
       "{\"Ebey's Landing\", 'North Beach East', 'Pole Pass'}"
      ]
     },
     "execution_count": 25,
     "metadata": {},
     "output_type": "execute_result"
    }
   ],
   "source": [
    "sim"
   ]
  },
  {
   "cell_type": "markdown",
   "id": "4dde48e5-b5db-47a5-9e45-dbd5012d32ae",
   "metadata": {},
   "source": [
    "set(df_2017['bed_name']).intersection(sim)"
   ]
  },
  {
   "cell_type": "markdown",
   "id": "d270b042-41aa-442b-9bfa-86cfff635bae",
   "metadata": {},
   "source": [
    "### looking at just ebey "
   ]
  },
  {
   "cell_type": "code",
   "execution_count": 26,
   "id": "44ce2c74-ed6d-4b7d-b2b2-9fb659bd5dd3",
   "metadata": {},
   "outputs": [],
   "source": [
    "ebey17 = df_2017[df_2017['bed_name'] == 'Ebey\\'s Landing']"
   ]
  },
  {
   "cell_type": "code",
   "execution_count": 27,
   "id": "ac67792f-f9a8-4dae-9e32-a9ba4b87fd82",
   "metadata": {},
   "outputs": [],
   "source": [
    "ebey17 = ebey17.add_suffix('_17')"
   ]
  },
  {
   "cell_type": "code",
   "execution_count": 28,
   "id": "93f410dc-d559-4671-8dbe-ee44a25cbe96",
   "metadata": {},
   "outputs": [],
   "source": [
    "ebey15 = df_2015[df_2015['bed_name'] == 'Ebey\\'s Landing']"
   ]
  },
  {
   "cell_type": "code",
   "execution_count": 29,
   "id": "dd3354c0-6d9b-4850-827c-88b93b33d382",
   "metadata": {},
   "outputs": [],
   "source": [
    "ebey15 = ebey15.add_suffix('_15')"
   ]
  },
  {
   "cell_type": "code",
   "execution_count": 30,
   "id": "8b4c7871-f42c-4bbe-9d21-9bebbc522394",
   "metadata": {},
   "outputs": [],
   "source": [
    "ebey23 = df_2023[df_2023['bed_name'] == 'Ebey\\'s Landing']"
   ]
  },
  {
   "cell_type": "code",
   "execution_count": 31,
   "id": "d34937e2-4c09-4bff-803e-278d50ccec86",
   "metadata": {},
   "outputs": [],
   "source": [
    "ebey23= ebey23.add_suffix('_23')"
   ]
  },
  {
   "cell_type": "code",
   "execution_count": 32,
   "id": "9fcf5310-0a27-4d6f-bdef-ead63cc769d6",
   "metadata": {},
   "outputs": [
    {
     "data": {
      "text/html": [
       "<div>\n",
       "<style scoped>\n",
       "    .dataframe tbody tr th:only-of-type {\n",
       "        vertical-align: middle;\n",
       "    }\n",
       "\n",
       "    .dataframe tbody tr th {\n",
       "        vertical-align: top;\n",
       "    }\n",
       "\n",
       "    .dataframe thead th {\n",
       "        text-align: right;\n",
       "    }\n",
       "</style>\n",
       "<table border=\"1\" class=\"dataframe\">\n",
       "  <thead>\n",
       "    <tr style=\"text-align: right;\">\n",
       "      <th></th>\n",
       "      <th>geometry_17</th>\n",
       "      <th>bed_name_17</th>\n",
       "      <th>date_17</th>\n",
       "      <th>acres_17</th>\n",
       "      <th>county_17</th>\n",
       "      <th>Location_17</th>\n",
       "      <th>observations_17</th>\n",
       "      <th>water_temp_17</th>\n",
       "      <th>year_17</th>\n",
       "      <th>month_17</th>\n",
       "      <th>geometry_15</th>\n",
       "      <th>bed_name_15</th>\n",
       "      <th>date_15</th>\n",
       "      <th>acres_15</th>\n",
       "      <th>county_15</th>\n",
       "      <th>Location_15</th>\n",
       "      <th>observations_15</th>\n",
       "      <th>water_temp_15</th>\n",
       "      <th>year_15</th>\n",
       "      <th>month_15</th>\n",
       "    </tr>\n",
       "  </thead>\n",
       "  <tbody>\n",
       "    <tr>\n",
       "      <th>24</th>\n",
       "      <td>Geocortex.Gis.Geometries.Polygon</td>\n",
       "      <td>Ebey's Landing</td>\n",
       "      <td>2017-09-16</td>\n",
       "      <td>21.537306</td>\n",
       "      <td>Island</td>\n",
       "      <td>Ebey's Landing</td>\n",
       "      <td>1 sea lion cruising outer perimeter of bed 1 W...</td>\n",
       "      <td>11.0</td>\n",
       "      <td>2017.0</td>\n",
       "      <td>9.0</td>\n",
       "      <td>Geocortex.Gis.Geometries.Polygon</td>\n",
       "      <td>Ebey's Landing</td>\n",
       "      <td>2015-08-15</td>\n",
       "      <td>18.371846</td>\n",
       "      <td>Island</td>\n",
       "      <td>Ebeys Landing</td>\n",
       "      <td>NaN</td>\n",
       "      <td>13.0</td>\n",
       "      <td>2015.0</td>\n",
       "      <td>8.0</td>\n",
       "    </tr>\n",
       "    <tr>\n",
       "      <th>25</th>\n",
       "      <td>Geocortex.Gis.Geometries.Polygon</td>\n",
       "      <td>Ebey's Landing</td>\n",
       "      <td>2017-08-23</td>\n",
       "      <td>20.948499</td>\n",
       "      <td>Island</td>\n",
       "      <td>Ebey's Landing</td>\n",
       "      <td>three great blue herons on kelp fishing, six h...</td>\n",
       "      <td>13.0</td>\n",
       "      <td>2017.0</td>\n",
       "      <td>8.0</td>\n",
       "      <td>Geocortex.Gis.Geometries.Polygon</td>\n",
       "      <td>Ebey's Landing</td>\n",
       "      <td>2015-09-26</td>\n",
       "      <td>17.885763</td>\n",
       "      <td>Island</td>\n",
       "      <td>Ebeys Landing</td>\n",
       "      <td>Lots of heer,ams gulls, glavcous winged gulls,...</td>\n",
       "      <td>12.0</td>\n",
       "      <td>2015.0</td>\n",
       "      <td>9.0</td>\n",
       "    </tr>\n",
       "    <tr>\n",
       "      <th>26</th>\n",
       "      <td>Geocortex.Gis.Geometries.Polygon</td>\n",
       "      <td>Ebey's Landing</td>\n",
       "      <td>2017-07-25</td>\n",
       "      <td>20.160271</td>\n",
       "      <td>Island</td>\n",
       "      <td>Ebey's Landing</td>\n",
       "      <td>2 great blue heron on kelp, one bald eagle, ma...</td>\n",
       "      <td>12.0</td>\n",
       "      <td>2017.0</td>\n",
       "      <td>7.0</td>\n",
       "      <td>NaN</td>\n",
       "      <td>NaN</td>\n",
       "      <td>NaT</td>\n",
       "      <td>NaN</td>\n",
       "      <td>NaN</td>\n",
       "      <td>NaN</td>\n",
       "      <td>NaN</td>\n",
       "      <td>NaN</td>\n",
       "      <td>NaN</td>\n",
       "      <td>NaN</td>\n",
       "    </tr>\n",
       "    <tr>\n",
       "      <th>27</th>\n",
       "      <td>Geocortex.Gis.Geometries.Polygon</td>\n",
       "      <td>Ebey's Landing</td>\n",
       "      <td>2017-06-26</td>\n",
       "      <td>14.046560</td>\n",
       "      <td>Island</td>\n",
       "      <td>Ebey's Landing</td>\n",
       "      <td>Two common loons, one bald eagle, one great bl...</td>\n",
       "      <td>11.0</td>\n",
       "      <td>2017.0</td>\n",
       "      <td>6.0</td>\n",
       "      <td>NaN</td>\n",
       "      <td>NaN</td>\n",
       "      <td>NaT</td>\n",
       "      <td>NaN</td>\n",
       "      <td>NaN</td>\n",
       "      <td>NaN</td>\n",
       "      <td>NaN</td>\n",
       "      <td>NaN</td>\n",
       "      <td>NaN</td>\n",
       "      <td>NaN</td>\n",
       "    </tr>\n",
       "    <tr>\n",
       "      <th>22</th>\n",
       "      <td>NaN</td>\n",
       "      <td>NaN</td>\n",
       "      <td>NaT</td>\n",
       "      <td>NaN</td>\n",
       "      <td>NaN</td>\n",
       "      <td>NaN</td>\n",
       "      <td>NaN</td>\n",
       "      <td>NaN</td>\n",
       "      <td>NaN</td>\n",
       "      <td>NaN</td>\n",
       "      <td>Geocortex.Gis.Geometries.Polygon</td>\n",
       "      <td>Ebey's Landing</td>\n",
       "      <td>2015-06-14</td>\n",
       "      <td>9.490779</td>\n",
       "      <td>Island</td>\n",
       "      <td>Ebeys Landing</td>\n",
       "      <td>1) Lots (10^6) of probably kelp crab  zoea in ...</td>\n",
       "      <td>11.0</td>\n",
       "      <td>2015.0</td>\n",
       "      <td>6.0</td>\n",
       "    </tr>\n",
       "    <tr>\n",
       "      <th>23</th>\n",
       "      <td>NaN</td>\n",
       "      <td>NaN</td>\n",
       "      <td>NaT</td>\n",
       "      <td>NaN</td>\n",
       "      <td>NaN</td>\n",
       "      <td>NaN</td>\n",
       "      <td>NaN</td>\n",
       "      <td>NaN</td>\n",
       "      <td>NaN</td>\n",
       "      <td>NaN</td>\n",
       "      <td>Geocortex.Gis.Geometries.Polygon</td>\n",
       "      <td>Ebey's Landing</td>\n",
       "      <td>2015-07-19</td>\n",
       "      <td>14.625756</td>\n",
       "      <td>Island</td>\n",
       "      <td>Ebeys Landing</td>\n",
       "      <td>NaN</td>\n",
       "      <td>13.0</td>\n",
       "      <td>2015.0</td>\n",
       "      <td>7.0</td>\n",
       "    </tr>\n",
       "  </tbody>\n",
       "</table>\n",
       "</div>"
      ],
      "text/plain": [
       "                         geometry_17     bed_name_17    date_17   acres_17  \\\n",
       "24  Geocortex.Gis.Geometries.Polygon  Ebey's Landing 2017-09-16  21.537306   \n",
       "25  Geocortex.Gis.Geometries.Polygon  Ebey's Landing 2017-08-23  20.948499   \n",
       "26  Geocortex.Gis.Geometries.Polygon  Ebey's Landing 2017-07-25  20.160271   \n",
       "27  Geocortex.Gis.Geometries.Polygon  Ebey's Landing 2017-06-26  14.046560   \n",
       "22                               NaN             NaN        NaT        NaN   \n",
       "23                               NaN             NaN        NaT        NaN   \n",
       "\n",
       "   county_17     Location_17  \\\n",
       "24    Island  Ebey's Landing   \n",
       "25    Island  Ebey's Landing   \n",
       "26    Island  Ebey's Landing   \n",
       "27    Island  Ebey's Landing   \n",
       "22       NaN             NaN   \n",
       "23       NaN             NaN   \n",
       "\n",
       "                                      observations_17  water_temp_17  year_17  \\\n",
       "24  1 sea lion cruising outer perimeter of bed 1 W...           11.0   2017.0   \n",
       "25  three great blue herons on kelp fishing, six h...           13.0   2017.0   \n",
       "26  2 great blue heron on kelp, one bald eagle, ma...           12.0   2017.0   \n",
       "27  Two common loons, one bald eagle, one great bl...           11.0   2017.0   \n",
       "22                                                NaN            NaN      NaN   \n",
       "23                                                NaN            NaN      NaN   \n",
       "\n",
       "    month_17                       geometry_15     bed_name_15    date_15  \\\n",
       "24       9.0  Geocortex.Gis.Geometries.Polygon  Ebey's Landing 2015-08-15   \n",
       "25       8.0  Geocortex.Gis.Geometries.Polygon  Ebey's Landing 2015-09-26   \n",
       "26       7.0                               NaN             NaN        NaT   \n",
       "27       6.0                               NaN             NaN        NaT   \n",
       "22       NaN  Geocortex.Gis.Geometries.Polygon  Ebey's Landing 2015-06-14   \n",
       "23       NaN  Geocortex.Gis.Geometries.Polygon  Ebey's Landing 2015-07-19   \n",
       "\n",
       "     acres_15 county_15    Location_15  \\\n",
       "24  18.371846    Island  Ebeys Landing   \n",
       "25  17.885763    Island  Ebeys Landing   \n",
       "26        NaN       NaN            NaN   \n",
       "27        NaN       NaN            NaN   \n",
       "22   9.490779    Island  Ebeys Landing   \n",
       "23  14.625756    Island  Ebeys Landing   \n",
       "\n",
       "                                      observations_15  water_temp_15  year_15  \\\n",
       "24                                                NaN           13.0   2015.0   \n",
       "25  Lots of heer,ams gulls, glavcous winged gulls,...           12.0   2015.0   \n",
       "26                                                NaN            NaN      NaN   \n",
       "27                                                NaN            NaN      NaN   \n",
       "22  1) Lots (10^6) of probably kelp crab  zoea in ...           11.0   2015.0   \n",
       "23                                                NaN           13.0   2015.0   \n",
       "\n",
       "    month_15  \n",
       "24       8.0  \n",
       "25       9.0  \n",
       "26       NaN  \n",
       "27       NaN  \n",
       "22       6.0  \n",
       "23       7.0  "
      ]
     },
     "execution_count": 32,
     "metadata": {},
     "output_type": "execute_result"
    }
   ],
   "source": [
    "frames = [ebey17, ebey15]\n",
    "\n",
    "result = pd.concat(frames, axis=1)\n",
    "\n",
    "result"
   ]
  },
  {
   "cell_type": "code",
   "execution_count": 33,
   "id": "645a1dd5-177a-4434-b3b6-73ce77f2a1d0",
   "metadata": {},
   "outputs": [],
   "source": [
    "result= result.fillna(0)"
   ]
  },
  {
   "cell_type": "code",
   "execution_count": 34,
   "id": "e9eee424-1148-4d06-b8f9-743dd1d8ce17",
   "metadata": {},
   "outputs": [
    {
     "data": {
      "text/plain": [
       "Index(['geometry_17', 'bed_name_17', 'date_17', 'acres_17', 'county_17',\n",
       "       'Location_17', 'observations_17', 'water_temp_17', 'year_17',\n",
       "       'month_17', 'geometry_15', 'bed_name_15', 'date_15', 'acres_15',\n",
       "       'county_15', 'Location_15', 'observations_15', 'water_temp_15',\n",
       "       'year_15', 'month_15'],\n",
       "      dtype='object')"
      ]
     },
     "execution_count": 34,
     "metadata": {},
     "output_type": "execute_result"
    }
   ],
   "source": [
    "result.columns"
   ]
  },
  {
   "cell_type": "code",
   "execution_count": 35,
   "id": "d66c60aa-b9c2-4568-aace-64b19ae1515c",
   "metadata": {},
   "outputs": [],
   "source": [
    "# Calculate the absolute difference in height\n",
    "result['exp_diff'] = result['acres_17'] - result['acres_15']\n",
    "\n",
    "# Calculate the percentage change\n",
    "result['exp_pct'] = (result['acres_17'] / result['acres_15']) * 100"
   ]
  },
  {
   "cell_type": "code",
   "execution_count": 36,
   "id": "f4fe4207-1284-4f81-8b65-b9696ec75549",
   "metadata": {},
   "outputs": [
    {
     "data": {
      "text/html": [
       "<div>\n",
       "<style scoped>\n",
       "    .dataframe tbody tr th:only-of-type {\n",
       "        vertical-align: middle;\n",
       "    }\n",
       "\n",
       "    .dataframe tbody tr th {\n",
       "        vertical-align: top;\n",
       "    }\n",
       "\n",
       "    .dataframe thead th {\n",
       "        text-align: right;\n",
       "    }\n",
       "</style>\n",
       "<table border=\"1\" class=\"dataframe\">\n",
       "  <thead>\n",
       "    <tr style=\"text-align: right;\">\n",
       "      <th></th>\n",
       "      <th>geometry_17</th>\n",
       "      <th>bed_name_17</th>\n",
       "      <th>date_17</th>\n",
       "      <th>acres_17</th>\n",
       "      <th>county_17</th>\n",
       "      <th>Location_17</th>\n",
       "      <th>observations_17</th>\n",
       "      <th>water_temp_17</th>\n",
       "      <th>year_17</th>\n",
       "      <th>month_17</th>\n",
       "      <th>...</th>\n",
       "      <th>date_15</th>\n",
       "      <th>acres_15</th>\n",
       "      <th>county_15</th>\n",
       "      <th>Location_15</th>\n",
       "      <th>observations_15</th>\n",
       "      <th>water_temp_15</th>\n",
       "      <th>year_15</th>\n",
       "      <th>month_15</th>\n",
       "      <th>exp_diff</th>\n",
       "      <th>exp_pct</th>\n",
       "    </tr>\n",
       "  </thead>\n",
       "  <tbody>\n",
       "    <tr>\n",
       "      <th>24</th>\n",
       "      <td>Geocortex.Gis.Geometries.Polygon</td>\n",
       "      <td>Ebey's Landing</td>\n",
       "      <td>2017-09-16 00:00:00</td>\n",
       "      <td>21.537306</td>\n",
       "      <td>Island</td>\n",
       "      <td>Ebey's Landing</td>\n",
       "      <td>1 sea lion cruising outer perimeter of bed 1 W...</td>\n",
       "      <td>11.0</td>\n",
       "      <td>2017.0</td>\n",
       "      <td>9.0</td>\n",
       "      <td>...</td>\n",
       "      <td>2015-08-15 00:00:00</td>\n",
       "      <td>18.371846</td>\n",
       "      <td>Island</td>\n",
       "      <td>Ebeys Landing</td>\n",
       "      <td>0</td>\n",
       "      <td>13.0</td>\n",
       "      <td>2015.0</td>\n",
       "      <td>8.0</td>\n",
       "      <td>3.165460</td>\n",
       "      <td>117.229949</td>\n",
       "    </tr>\n",
       "    <tr>\n",
       "      <th>25</th>\n",
       "      <td>Geocortex.Gis.Geometries.Polygon</td>\n",
       "      <td>Ebey's Landing</td>\n",
       "      <td>2017-08-23 00:00:00</td>\n",
       "      <td>20.948499</td>\n",
       "      <td>Island</td>\n",
       "      <td>Ebey's Landing</td>\n",
       "      <td>three great blue herons on kelp fishing, six h...</td>\n",
       "      <td>13.0</td>\n",
       "      <td>2017.0</td>\n",
       "      <td>8.0</td>\n",
       "      <td>...</td>\n",
       "      <td>2015-09-26 00:00:00</td>\n",
       "      <td>17.885763</td>\n",
       "      <td>Island</td>\n",
       "      <td>Ebeys Landing</td>\n",
       "      <td>Lots of heer,ams gulls, glavcous winged gulls,...</td>\n",
       "      <td>12.0</td>\n",
       "      <td>2015.0</td>\n",
       "      <td>9.0</td>\n",
       "      <td>3.062736</td>\n",
       "      <td>117.123876</td>\n",
       "    </tr>\n",
       "    <tr>\n",
       "      <th>26</th>\n",
       "      <td>Geocortex.Gis.Geometries.Polygon</td>\n",
       "      <td>Ebey's Landing</td>\n",
       "      <td>2017-07-25 00:00:00</td>\n",
       "      <td>20.160271</td>\n",
       "      <td>Island</td>\n",
       "      <td>Ebey's Landing</td>\n",
       "      <td>2 great blue heron on kelp, one bald eagle, ma...</td>\n",
       "      <td>12.0</td>\n",
       "      <td>2017.0</td>\n",
       "      <td>7.0</td>\n",
       "      <td>...</td>\n",
       "      <td>0</td>\n",
       "      <td>0.000000</td>\n",
       "      <td>0</td>\n",
       "      <td>0</td>\n",
       "      <td>0</td>\n",
       "      <td>0.0</td>\n",
       "      <td>0.0</td>\n",
       "      <td>0.0</td>\n",
       "      <td>20.160271</td>\n",
       "      <td>inf</td>\n",
       "    </tr>\n",
       "    <tr>\n",
       "      <th>27</th>\n",
       "      <td>Geocortex.Gis.Geometries.Polygon</td>\n",
       "      <td>Ebey's Landing</td>\n",
       "      <td>2017-06-26 00:00:00</td>\n",
       "      <td>14.046560</td>\n",
       "      <td>Island</td>\n",
       "      <td>Ebey's Landing</td>\n",
       "      <td>Two common loons, one bald eagle, one great bl...</td>\n",
       "      <td>11.0</td>\n",
       "      <td>2017.0</td>\n",
       "      <td>6.0</td>\n",
       "      <td>...</td>\n",
       "      <td>0</td>\n",
       "      <td>0.000000</td>\n",
       "      <td>0</td>\n",
       "      <td>0</td>\n",
       "      <td>0</td>\n",
       "      <td>0.0</td>\n",
       "      <td>0.0</td>\n",
       "      <td>0.0</td>\n",
       "      <td>14.046560</td>\n",
       "      <td>inf</td>\n",
       "    </tr>\n",
       "    <tr>\n",
       "      <th>22</th>\n",
       "      <td>0</td>\n",
       "      <td>0</td>\n",
       "      <td>0</td>\n",
       "      <td>0.000000</td>\n",
       "      <td>0</td>\n",
       "      <td>0</td>\n",
       "      <td>0</td>\n",
       "      <td>0.0</td>\n",
       "      <td>0.0</td>\n",
       "      <td>0.0</td>\n",
       "      <td>...</td>\n",
       "      <td>2015-06-14 00:00:00</td>\n",
       "      <td>9.490779</td>\n",
       "      <td>Island</td>\n",
       "      <td>Ebeys Landing</td>\n",
       "      <td>1) Lots (10^6) of probably kelp crab  zoea in ...</td>\n",
       "      <td>11.0</td>\n",
       "      <td>2015.0</td>\n",
       "      <td>6.0</td>\n",
       "      <td>-9.490779</td>\n",
       "      <td>0.000000</td>\n",
       "    </tr>\n",
       "    <tr>\n",
       "      <th>23</th>\n",
       "      <td>0</td>\n",
       "      <td>0</td>\n",
       "      <td>0</td>\n",
       "      <td>0.000000</td>\n",
       "      <td>0</td>\n",
       "      <td>0</td>\n",
       "      <td>0</td>\n",
       "      <td>0.0</td>\n",
       "      <td>0.0</td>\n",
       "      <td>0.0</td>\n",
       "      <td>...</td>\n",
       "      <td>2015-07-19 00:00:00</td>\n",
       "      <td>14.625756</td>\n",
       "      <td>Island</td>\n",
       "      <td>Ebeys Landing</td>\n",
       "      <td>0</td>\n",
       "      <td>13.0</td>\n",
       "      <td>2015.0</td>\n",
       "      <td>7.0</td>\n",
       "      <td>-14.625756</td>\n",
       "      <td>0.000000</td>\n",
       "    </tr>\n",
       "  </tbody>\n",
       "</table>\n",
       "<p>6 rows × 22 columns</p>\n",
       "</div>"
      ],
      "text/plain": [
       "                         geometry_17     bed_name_17              date_17  \\\n",
       "24  Geocortex.Gis.Geometries.Polygon  Ebey's Landing  2017-09-16 00:00:00   \n",
       "25  Geocortex.Gis.Geometries.Polygon  Ebey's Landing  2017-08-23 00:00:00   \n",
       "26  Geocortex.Gis.Geometries.Polygon  Ebey's Landing  2017-07-25 00:00:00   \n",
       "27  Geocortex.Gis.Geometries.Polygon  Ebey's Landing  2017-06-26 00:00:00   \n",
       "22                                 0               0                    0   \n",
       "23                                 0               0                    0   \n",
       "\n",
       "     acres_17 county_17     Location_17  \\\n",
       "24  21.537306    Island  Ebey's Landing   \n",
       "25  20.948499    Island  Ebey's Landing   \n",
       "26  20.160271    Island  Ebey's Landing   \n",
       "27  14.046560    Island  Ebey's Landing   \n",
       "22   0.000000         0               0   \n",
       "23   0.000000         0               0   \n",
       "\n",
       "                                      observations_17  water_temp_17  year_17  \\\n",
       "24  1 sea lion cruising outer perimeter of bed 1 W...           11.0   2017.0   \n",
       "25  three great blue herons on kelp fishing, six h...           13.0   2017.0   \n",
       "26  2 great blue heron on kelp, one bald eagle, ma...           12.0   2017.0   \n",
       "27  Two common loons, one bald eagle, one great bl...           11.0   2017.0   \n",
       "22                                                  0            0.0      0.0   \n",
       "23                                                  0            0.0      0.0   \n",
       "\n",
       "    month_17  ...              date_15   acres_15 county_15    Location_15  \\\n",
       "24       9.0  ...  2015-08-15 00:00:00  18.371846    Island  Ebeys Landing   \n",
       "25       8.0  ...  2015-09-26 00:00:00  17.885763    Island  Ebeys Landing   \n",
       "26       7.0  ...                    0   0.000000         0              0   \n",
       "27       6.0  ...                    0   0.000000         0              0   \n",
       "22       0.0  ...  2015-06-14 00:00:00   9.490779    Island  Ebeys Landing   \n",
       "23       0.0  ...  2015-07-19 00:00:00  14.625756    Island  Ebeys Landing   \n",
       "\n",
       "                                      observations_15 water_temp_15 year_15  \\\n",
       "24                                                  0          13.0  2015.0   \n",
       "25  Lots of heer,ams gulls, glavcous winged gulls,...          12.0  2015.0   \n",
       "26                                                  0           0.0     0.0   \n",
       "27                                                  0           0.0     0.0   \n",
       "22  1) Lots (10^6) of probably kelp crab  zoea in ...          11.0  2015.0   \n",
       "23                                                  0          13.0  2015.0   \n",
       "\n",
       "    month_15   exp_diff     exp_pct  \n",
       "24       8.0   3.165460  117.229949  \n",
       "25       9.0   3.062736  117.123876  \n",
       "26       0.0  20.160271         inf  \n",
       "27       0.0  14.046560         inf  \n",
       "22       6.0  -9.490779    0.000000  \n",
       "23       7.0 -14.625756    0.000000  \n",
       "\n",
       "[6 rows x 22 columns]"
      ]
     },
     "execution_count": 36,
     "metadata": {},
     "output_type": "execute_result"
    }
   ],
   "source": [
    "result"
   ]
  },
  {
   "cell_type": "code",
   "execution_count": 37,
   "id": "a70e596e-c32c-49a6-bded-58f712400fcb",
   "metadata": {},
   "outputs": [
    {
     "name": "stderr",
     "output_type": "stream",
     "text": [
      "C:\\Users\\ahria\\anaconda3\\Lib\\site-packages\\numpy\\lib\\_function_base_impl.py:4623: RuntimeWarning: invalid value encountered in subtract\n",
      "  subtract(b, diff_b_a * (1 - t), out=lerp_interpolation, where=t >= 0.5,\n"
     ]
    },
    {
     "data": {
      "text/html": [
       "<div>\n",
       "<style scoped>\n",
       "    .dataframe tbody tr th:only-of-type {\n",
       "        vertical-align: middle;\n",
       "    }\n",
       "\n",
       "    .dataframe tbody tr th {\n",
       "        vertical-align: top;\n",
       "    }\n",
       "\n",
       "    .dataframe thead th {\n",
       "        text-align: right;\n",
       "    }\n",
       "</style>\n",
       "<table border=\"1\" class=\"dataframe\">\n",
       "  <thead>\n",
       "    <tr style=\"text-align: right;\">\n",
       "      <th></th>\n",
       "      <th>exp_diff</th>\n",
       "      <th>exp_pct</th>\n",
       "    </tr>\n",
       "  </thead>\n",
       "  <tbody>\n",
       "    <tr>\n",
       "      <th>count</th>\n",
       "      <td>6.000000</td>\n",
       "      <td>6.000000</td>\n",
       "    </tr>\n",
       "    <tr>\n",
       "      <th>mean</th>\n",
       "      <td>2.719749</td>\n",
       "      <td>inf</td>\n",
       "    </tr>\n",
       "    <tr>\n",
       "      <th>std</th>\n",
       "      <td>13.287199</td>\n",
       "      <td>NaN</td>\n",
       "    </tr>\n",
       "    <tr>\n",
       "      <th>min</th>\n",
       "      <td>-14.625756</td>\n",
       "      <td>0.000000</td>\n",
       "    </tr>\n",
       "    <tr>\n",
       "      <th>25%</th>\n",
       "      <td>-6.352401</td>\n",
       "      <td>29.280969</td>\n",
       "    </tr>\n",
       "    <tr>\n",
       "      <th>50%</th>\n",
       "      <td>3.114098</td>\n",
       "      <td>117.176913</td>\n",
       "    </tr>\n",
       "    <tr>\n",
       "      <th>75%</th>\n",
       "      <td>11.326285</td>\n",
       "      <td>NaN</td>\n",
       "    </tr>\n",
       "    <tr>\n",
       "      <th>max</th>\n",
       "      <td>20.160271</td>\n",
       "      <td>inf</td>\n",
       "    </tr>\n",
       "  </tbody>\n",
       "</table>\n",
       "</div>"
      ],
      "text/plain": [
       "        exp_diff     exp_pct\n",
       "count   6.000000    6.000000\n",
       "mean    2.719749         inf\n",
       "std    13.287199         NaN\n",
       "min   -14.625756    0.000000\n",
       "25%    -6.352401   29.280969\n",
       "50%     3.114098  117.176913\n",
       "75%    11.326285         NaN\n",
       "max    20.160271         inf"
      ]
     },
     "execution_count": 37,
     "metadata": {},
     "output_type": "execute_result"
    }
   ],
   "source": [
    "result[['exp_diff', 'exp_pct']].describe()"
   ]
  },
  {
   "cell_type": "code",
   "execution_count": 38,
   "id": "e56f0201-35ca-4b86-8cef-8db115c3cbef",
   "metadata": {},
   "outputs": [
    {
     "data": {
      "image/png": "[encoded data removed]",
      "text/plain": [
       "<Figure size 640x480 with 2 Axes>"
      ]
     },
     "metadata": {},
     "output_type": "display_data"
    }
   ],
   "source": [
    "predictor_variables = ['water_temp_17', 'water_temp_15']\n",
    "\n",
    "numerical_predictors = result[predictor_variables].select_dtypes(include='number').columns.to_list()\n",
    "\n",
    "corr_matrix = result[numerical_predictors + [\"exp_pct\"]].corr()\n",
    "\n",
    "\n",
    "sns.heatmap(\n",
    "    corr_matrix, vmax=1, vmin=-1, square=True, annot=True, cmap=\"viridis\"\n",
    ")\n",
    "\n",
    "plt.tick_params(labelsize=12)\n",
    "\n",
    "plt.show()"
   ]
  },
  {
   "cell_type": "markdown",
   "id": "56042aee-b0a8-4446-8291-52bc1bf094ea",
   "metadata": {},
   "source": [
    "scatterplots\n",
    "temp vs two years later"
   ]
  },
  {
   "cell_type": "code",
   "execution_count": 39,
   "id": "b55eeec1-3a6d-47b5-99d3-be7fed064e25",
   "metadata": {},
   "outputs": [
    {
     "data": {
      "image/png": "[encoded data removed]",
      "text/plain": [
       "<Figure size 640x480 with 1 Axes>"
      ]
     },
     "metadata": {},
     "output_type": "display_data"
    }
   ],
   "source": [
    "plt.scatter(result['acres_15'], result['water_temp_15'])\n",
    "\n",
    "# Add labels and title for clarity\n",
    "plt.xlabel('Water Temp')\n",
    "plt.ylabel('Acres')\n",
    "plt.title('Basic Scatter Plot')\n",
    "\n",
    "# Display the plot\n",
    "plt.show()"
   ]
  },
  {
   "cell_type": "code",
   "execution_count": 40,
   "id": "b3c3e7cf-489a-401a-a38d-a949235fcb3e",
   "metadata": {},
   "outputs": [
    {
     "data": {
      "image/png": "[encoded data removed]",
      "text/plain": [
       "<Figure size 640x480 with 1 Axes>"
      ]
     },
     "metadata": {},
     "output_type": "display_data"
    }
   ],
   "source": [
    "plt.scatter(result['acres_17'], result['water_temp_17'])\n",
    "\n",
    "# Add labels and title for clarity\n",
    "plt.xlabel('Water Temp')\n",
    "plt.ylabel('Acres')\n",
    "plt.title('Basic Scatter Plot')\n",
    "\n",
    "# Display the plot\n",
    "plt.show()"
   ]
  },
  {
   "cell_type": "code",
   "execution_count": null,
   "id": "3013d1f9-4fc3-4089-abc0-74541948e4ec",
   "metadata": {},
   "outputs": [],
   "source": []
  },
  {
   "cell_type": "code",
   "execution_count": null,
   "id": "f6642cbe-2d2d-4914-931f-73a0874eb57f",
   "metadata": {},
   "outputs": [],
   "source": []
  }
 ],
 "metadata": {
  "kernelspec": {
   "display_name": "Python [conda env:base] *",
   "language": "python",
   "name": "conda-base-py"
  },
  "language_info": {
   "codemirror_mode": {
    "name": "ipython",
    "version": 3
   },
   "file_extension": ".py",
   "mimetype": "text/x-python",
   "name": "python",
   "nbconvert_exporter": "python",
   "pygments_lexer": "ipython3",
   "version": "3.13.5"
  }
 },
 "nbformat": 4,
 "nbformat_minor": 5
}
